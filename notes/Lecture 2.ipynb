{
 "cells": [
  {
   "cell_type": "markdown",
   "id": "ba535367",
   "metadata": {},
   "source": [
    "$$\\dfrac{C[x]}{X^n-1}$$ can be projected to the product of\n",
    "\n",
    "$$\\prod_{i=0}^{n-1} \\dfrac{C[x]}{x-\\omega^i}$$"
   ]
  },
  {
   "cell_type": "markdown",
   "id": "c44e40a6",
   "metadata": {},
   "source": [
    "Stride perm matrix\n",
    "\n",
    "$$T^{2n}_n=I_n$$ then $w_n$ diagonally\n",
    "\n",
    "$$F_2 = (1, 1; 1 -1)$$\n",
    "\n",
    "$$(F_2 \\otimes I_2)T(I_2\\otimes F_2)L^{4}_2$$\n",
    "\n",
    "$L^{4}_2$ is just the permutation matrix"
   ]
  },
  {
   "cell_type": "markdown",
   "id": "841217c2",
   "metadata": {},
   "source": [
    "$\\otimes$ replaces elements of the rhs with the lhs"
   ]
  },
  {
   "cell_type": "markdown",
   "id": "d8d9a523",
   "metadata": {},
   "source": [
    "$$F_{2m}= (F_2 \\otimes I_m) T^{2m}_m (I_2 \\otimes F_n) L^{2m}_2$$"
   ]
  },
  {
   "cell_type": "markdown",
   "id": "b49d1398",
   "metadata": {},
   "source": [
    "Amount of computation\n",
    "\n",
    "$n=2^k=2m$"
   ]
  },
  {
   "cell_type": "markdown",
   "id": "7adfb24d",
   "metadata": {},
   "source": [
    "$$T(n)=2T(n/2)+\\Theta(n)=\\Theta(n \\log n)$$"
   ]
  },
  {
   "cell_type": "markdown",
   "id": "c4f24082",
   "metadata": {},
   "source": [
    "$$(F_2 \\otimes I_4)T_4(I_2\\otimes F_4)L^{4}_2$$\n",
    "$$(F_2 \\otimes I_4)T_4(I_2\\otimes ((F_2 \\otimes I_2)T_2(I_2\\otimes F_2)L^{2}_2))L^{4}_2$$"
   ]
  },
  {
   "cell_type": "markdown",
   "id": "14845225",
   "metadata": {},
   "source": [
    "$$(F_2 \\otimes I_4)T_4(((I_2\\otimes F_2 \\otimes I_2)(I_2 \\otimes T_2)(I_4\\otimes F_2)(I_2 \\otimes L^{2}_2)))L^{4}_2$$"
   ]
  },
  {
   "cell_type": "markdown",
   "id": "43a22242",
   "metadata": {},
   "source": [
    "$$(A\\otimes B) (C \\otimes D)= AC \\otimes BD$$\n",
    "\n",
    "$$I \\otimes AB = (I \\otimes A) (I \\otimes B)$$\n",
    "it's also associative\n",
    "\n",
    "$$I_m \\otimes I_n = I_{mn}$$\n"
   ]
  },
  {
   "cell_type": "markdown",
   "id": "d9b8bb5f",
   "metadata": {},
   "source": [
    "TWiddle is \n",
    "$$(I \\otimes F_2 \\otimes I)T$$\n",
    "this is for every factor"
   ]
  },
  {
   "cell_type": "markdown",
   "id": "206e972d",
   "metadata": {},
   "source": [
    "right to left and inside left to right for tensor product"
   ]
  },
  {
   "cell_type": "markdown",
   "id": "a7482cac",
   "metadata": {},
   "source": [
    "We have $\\log_n$ outer loops which double the size"
   ]
  },
  {
   "cell_type": "markdown",
   "id": "a233c50a",
   "metadata": {},
   "source": [
    "Batterfly flows from adding and subtracting"
   ]
  },
  {
   "cell_type": "markdown",
   "id": "e789e791",
   "metadata": {},
   "source": [
    "The permutation matrix gets $x_{2i}$ indices then $x_{2i+1}$ after that so 0 2 4 6 1 3 7"
   ]
  },
  {
   "cell_type": "markdown",
   "id": "b87760d1",
   "metadata": {},
   "source": [
    "Now when we apply\n",
    "$$\n",
    "(I_2 \\otimes L^{2}_2)L^{4}_2\n",
    "$$"
   ]
  },
  {
   "cell_type": "markdown",
   "id": "67baca1c",
   "metadata": {},
   "source": [
    "Then each L4 will do 0 2 1 3 so\n",
    "\n",
    "it'll be\n",
    "\n",
    "0 4 2 6 1 5 3 7\n",
    "\n",
    "this is reverse of the bits\n",
    "\n",
    "0 1 2 3 4 5 6 7"
   ]
  },
  {
   "cell_type": "markdown",
   "id": "ea592e67",
   "metadata": {},
   "source": [
    "So the last part is the bit reversal"
   ]
  },
  {
   "cell_type": "markdown",
   "id": "793f5812",
   "metadata": {},
   "source": [
    "# F diagonlizes any shift matrix\n",
    "\n",
    "shift squared is the new matrix. any circular matrix is "
   ]
  },
  {
   "cell_type": "code",
   "execution_count": null,
   "id": "510ca654",
   "metadata": {},
   "outputs": [],
   "source": []
  }
 ],
 "metadata": {
  "kernelspec": {
   "display_name": "Python 3 (ipykernel)",
   "language": "python",
   "name": "python3"
  },
  "language_info": {
   "codemirror_mode": {
    "name": "ipython",
    "version": 3
   },
   "file_extension": ".py",
   "mimetype": "text/x-python",
   "name": "python",
   "nbconvert_exporter": "python",
   "pygments_lexer": "ipython3",
   "version": "3.8.5"
  }
 },
 "nbformat": 4,
 "nbformat_minor": 5
}

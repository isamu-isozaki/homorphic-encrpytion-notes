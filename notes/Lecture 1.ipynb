{
 "cells": [
  {
   "cell_type": "markdown",
   "id": "a57b99d1",
   "metadata": {},
   "source": [
    "$L^2(Z_n)$\n",
    "\n",
    "$Z_n$ for each element it maps to a complex number\n",
    "\n",
    "$f*g$ convolution\n",
    "\n",
    "$(f*g)(k)$\n",
    "\n",
    "$\\sum_{i+j \\equiv k (mod n)} f(i)g(j)$"
   ]
  },
  {
   "cell_type": "markdown",
   "id": "922f2aa9",
   "metadata": {},
   "source": [
    "Identity of convolution\n",
    "\n",
    "$f*x_i = f$\n",
    "\n",
    "where $x_i$ if $i=j$ and 0 every time else\n",
    "\n",
    "in this case,\n",
    "\n",
    "$\\sum_{i+j \\equiv k (mod n)} f(i)x_0(j)$ is $f(k)$ as j=0 in the above proof"
   ]
  },
  {
   "cell_type": "markdown",
   "id": "783ed991",
   "metadata": {},
   "source": [
    "For $(a_0, a_1, a_2)$, $(b_0, b_1, b_2)$\n",
    "\n",
    "$a*b$\n",
    "\n",
    "$(a_0b_0+a_1b_2+a_2b_1, a_0b_1+a_1b_0+a_2b_2, a_0b_2+a_2b_0+a_1b_1$"
   ]
  },
  {
   "cell_type": "markdown",
   "id": "8c2d4a3e",
   "metadata": {},
   "source": [
    "$F_u(f*g)=F_u(f)\\cdot F_u(g)$\n",
    "Pointwise multiplying fourier=fourier of convolution"
   ]
  },
  {
   "cell_type": "markdown",
   "id": "2926da9b",
   "metadata": {},
   "source": [
    "$e^{\\dfrac{2\\pi i}{n}}$ to the power of n is 0"
   ]
  },
  {
   "cell_type": "markdown",
   "id": "3078d715",
   "metadata": {},
   "source": [
    "$$u(x)f(x)+v(x)g(x)=gcd(f, g)$$"
   ]
  },
  {
   "cell_type": "markdown",
   "id": "f3950c3f",
   "metadata": {},
   "source": [
    "$$\\dfrac{C_x}{X^n-1}$$ one root of $X^n-1$ is $e^{\\dfrac{2\\pi i}{n}}$ this ring is isomorphic to $L^2(Z_n)$ as the left is a vector of n dims"
   ]
  },
  {
   "cell_type": "markdown",
   "id": "320cffbc",
   "metadata": {},
   "source": [
    "There is a circulant matrix C(a) such that\n",
    "$c(a)b=a*b$\n",
    "$c(a)$ is the shift matrix. $c(a)^n$ rotates/shifts n times$"
   ]
  },
  {
   "cell_type": "markdown",
   "id": "84aefa8c",
   "metadata": {},
   "source": [
    "$C(S_n)$ is the complex group with group of order $n(S_n)$. Shift matrix shifted n times is the original matrix."
   ]
  },
  {
   "cell_type": "markdown",
   "id": "7b0a842a",
   "metadata": {},
   "source": [
    "If $gcd(f, X^n-1)=1$ then there is an inverse. The factor is powers of $e^{\\dfrac{2\\pi i}{n}}$"
   ]
  },
  {
   "cell_type": "markdown",
   "id": "f9eb1ece",
   "metadata": {},
   "source": [
    "Chinese Remainder Theorem\n",
    "\n",
    "gcd(m, n)=1\n",
    "\n",
    "We can find\n",
    "\n",
    "$$a \\equiv a_1 (\\mod n)$$\n",
    "$$a \\equiv a_2 (\\mod m)$$"
   ]
  },
  {
   "cell_type": "markdown",
   "id": "e3855932",
   "metadata": {},
   "source": [
    "This is because\n",
    "\n",
    "$Z_{mn}$ is iso to $Z_m x Z_n$ so a is iso to $(a_1, a_2)$"
   ]
  },
  {
   "cell_type": "markdown",
   "id": "aae06c6a",
   "metadata": {},
   "source": [
    "Given pair $(f_1, f_2)$ we can find this polynomial as\n",
    "\n",
    "$C[x]/fg$ is isomorphic to $C[x]/f x C[x]/g$ so we can extend this to saying\n",
    "$$\\dfrac{C_x}{X^n-1}$$\n",
    "is isomorphic to\n",
    "$$\\Pi_i C[x]/(x-w^i)$$. Doing mod is equivalent the polynomial to evaluating at n points is \n",
    "\n",
    "For example \n",
    "$v=(f(1), f(w), ....f(w^{n-1})$\n",
    "This is the same as given $f=(f_0 f_1 ...f_{n-1})$ multiplying this by the matrix\n",
    "\n",
    "$(1, v, v^2,....v^{n-1})$"
   ]
  },
  {
   "cell_type": "markdown",
   "id": "34d313ab",
   "metadata": {},
   "source": [
    "When doing pointwise multiplication, it's the same as\n",
    "\n",
    "$(f(1)g(1), f(w)g(w),...f(w^{n-1})g(w^{n-1})$\n",
    "\n",
    "Multiplying polynomials is the same as convolution $\\sum_{i+j \\equiv k (mod n)} f(i)g(j)$ since it's isomprphic there's a one to one mapping there"
   ]
  },
  {
   "cell_type": "markdown",
   "id": "19071a94",
   "metadata": {},
   "source": [
    "Let's prove that the connection to fourier and this is one to one.\n",
    "\n",
    "Also, one quick note. The matrix\n",
    "$(1, v, v^2...v^{n-1})$ where each one is a row does convert to the frequency domain since the frequency at which $w$ becomes one becomes higher with each row. So in the first row, the dot product with that and f is the white noise/no frequency ver. And then we have 1 Hz then 2 Hz and so on. If we have correspondents at 1 and $v^{n-1}$ for example, we know that the signal is high frequency"
   ]
  }
 ],
 "metadata": {
  "kernelspec": {
   "display_name": "Python 3 (ipykernel)",
   "language": "python",
   "name": "python3"
  },
  "language_info": {
   "codemirror_mode": {
    "name": "ipython",
    "version": 3
   },
   "file_extension": ".py",
   "mimetype": "text/x-python",
   "name": "python",
   "nbconvert_exporter": "python",
   "pygments_lexer": "ipython3",
   "version": "3.8.5"
  }
 },
 "nbformat": 4,
 "nbformat_minor": 5
}
